{
  "nbformat": 4,
  "nbformat_minor": 0,
  "metadata": {
    "accelerator": "GPU",
    "colab": {
      "name": "NLP Course - Week 3 Exercise Question.ipynb",
      "provenance": []
    },
    "kernelspec": {
      "display_name": "Python 3",
      "name": "python3"
    }
  },
  "cells": [
    {
      "cell_type": "code",
      "metadata": {
        "id": "zX4Kg8DUTKWO",
        "colab_type": "code",
        "colab": {}
      },
      "source": [
        "#@title Licensed under the Apache License, Version 2.0 (the \"License\");\n",
        "# you may not use this file except in compliance with the License.\n",
        "# You may obtain a copy of the License at\n",
        "#\n",
        "# https://www.apache.org/licenses/LICENSE-2.0\n",
        "#\n",
        "# Unless required by applicable law or agreed to in writing, software\n",
        "# distributed under the License is distributed on an \"AS IS\" BASIS,\n",
        "# WITHOUT WARRANTIES OR CONDITIONS OF ANY KIND, either express or implied.\n",
        "# See the License for the specific language governing permissions and\n",
        "# limitations under the License."
      ],
      "execution_count": null,
      "outputs": []
    },
    {
      "cell_type": "code",
      "metadata": {
        "colab_type": "code",
        "id": "hmA6EzkQJ5jt",
        "colab": {}
      },
      "source": [
        "import json\n",
        "import tensorflow as tf\n",
        "import csv\n",
        "import random\n",
        "import numpy as np\n",
        "\n",
        "from tensorflow.keras.preprocessing.text import Tokenizer\n",
        "from tensorflow.keras.preprocessing.sequence import pad_sequences\n",
        "from tensorflow.keras.utils import to_categorical\n",
        "from tensorflow.keras import regularizers\n",
        "\n",
        "\n",
        "embedding_dim = 100\n",
        "max_length = 16\n",
        "trunc_type='post'\n",
        "padding_type='post'\n",
        "oov_tok = \"<OOV>\"\n",
        "training_size=160000\n",
        "test_portion=.1\n",
        "\n",
        "corpus = []\n"
      ],
      "execution_count": 1,
      "outputs": []
    },
    {
      "cell_type": "code",
      "metadata": {
        "colab_type": "code",
        "id": "bM0l_dORKqE0",
        "colab": {
          "base_uri": "https://localhost:8080/",
          "height": 222
        },
        "outputId": "0dc5bc61-1044-4df8-e991-c6aded3610ce"
      },
      "source": [
        "# Note that I cleaned the Stanford dataset to remove LATIN1 encoding to make it easier for Python CSV reader\n",
        "# You can do that yourself with:\n",
        "# iconv -f LATIN1 -t UTF8 training.1600000.processed.noemoticon.csv -o training_cleaned.csv\n",
        "# I then hosted it on my site to make it easier to use in this notebook\n",
        "\n",
        "!wget --no-check-certificate \\\n",
        "    https://storage.googleapis.com/laurencemoroney-blog.appspot.com/training_cleaned.csv \\\n",
        "    -O /tmp/training_cleaned.csv\n",
        "\n",
        "num_sentences = 0\n",
        "\n",
        "with open(\"/tmp/training_cleaned.csv\") as csvfile:\n",
        "    reader = csv.reader(csvfile, delimiter=',')\n",
        "    for row in reader:\n",
        "        list_item=[]\n",
        "        list_item.append(row[5])\n",
        "        this_label=row[0]\n",
        "        \n",
        "        if this_label=='0':\n",
        "          list_item.append(0)\n",
        "        else:\n",
        "          list_item.append(1)\n",
        "        \n",
        "        num_sentences = num_sentences + 1\n",
        "        corpus.append(list_item)\n"
      ],
      "execution_count": 3,
      "outputs": [
        {
          "output_type": "stream",
          "text": [
            "--2020-08-31 11:37:39--  https://storage.googleapis.com/laurencemoroney-blog.appspot.com/training_cleaned.csv\n",
            "Resolving storage.googleapis.com (storage.googleapis.com)... 74.125.142.128, 74.125.195.128, 2607:f8b0:400e:c08::80, ...\n",
            "Connecting to storage.googleapis.com (storage.googleapis.com)|74.125.142.128|:443... connected.\n",
            "HTTP request sent, awaiting response... 200 OK\n",
            "Length: 238942690 (228M) [application/octet-stream]\n",
            "Saving to: ‘/tmp/training_cleaned.csv’\n",
            "\n",
            "/tmp/training_clean 100%[===================>] 227.87M   121MB/s    in 1.9s    \n",
            "\n",
            "2020-08-31 11:37:41 (121 MB/s) - ‘/tmp/training_cleaned.csv’ saved [238942690/238942690]\n",
            "\n"
          ],
          "name": "stdout"
        }
      ]
    },
    {
      "cell_type": "code",
      "metadata": {
        "colab_type": "code",
        "id": "3kxblBUjEUX-",
        "colab": {
          "base_uri": "https://localhost:8080/",
          "height": 87
        },
        "outputId": "d13aa2a4-3616-4fdb-b359-e392ef5c01ed"
      },
      "source": [
        "print(num_sentences)\n",
        "print(len(corpus))\n",
        "print(corpus[1])\n",
        "\n",
        "# Expected Output:\n",
        "# 1600000\n",
        "# 1600000\n",
        "# [\"is upset that he can't update his Facebook by texting it... and might cry as a result  School today also. Blah!\", 0]"
      ],
      "execution_count": 4,
      "outputs": [
        {
          "output_type": "stream",
          "text": [
            "1600000\n",
            "1600000\n",
            "[\"is upset that he can't update his Facebook by texting it... and might cry as a result  School today also. Blah!\", 0]\n"
          ],
          "name": "stdout"
        }
      ]
    },
    {
      "cell_type": "code",
      "metadata": {
        "colab_type": "code",
        "id": "ohOGz24lsNAD",
        "colab": {}
      },
      "source": [
        "sentences=[]\n",
        "labels=[]\n",
        "random.shuffle(corpus)\n",
        "for x in range(training_size):\n",
        "    sentences.append(corpus[x][0])\n",
        "    labels.append(corpus[x][1])\n",
        "\n",
        "\n",
        "tokenizer = Tokenizer()\n",
        "tokenizer.fit_on_texts(sentences)\n",
        "\n",
        "word_index = tokenizer.word_index\n",
        "vocab_size=len(word_index)\n",
        "\n",
        "sequences = tokenizer.texts_to_sequences(sentences)\n",
        "padded = pad_sequences(sequences, maxlen=max_length, padding=padding_type, truncating=trunc_type)\n",
        "\n",
        "split = int(test_portion * training_size)\n",
        "\n",
        "test_sequences = padded[0:split]\n",
        "training_sequences = padded[split:training_size]\n",
        "test_labels = labels[0:split]\n",
        "training_labels = labels[split:training_size]"
      ],
      "execution_count": 5,
      "outputs": []
    },
    {
      "cell_type": "code",
      "metadata": {
        "colab_type": "code",
        "id": "gIrtRem1En3N",
        "colab": {
          "base_uri": "https://localhost:8080/",
          "height": 50
        },
        "outputId": "c57d7524-2453-4e99-962f-799f56e887c3"
      },
      "source": [
        "print(vocab_size)\n",
        "print(word_index['i'])\n",
        "# Expected Output\n",
        "# 138858\n",
        "# 1"
      ],
      "execution_count": 6,
      "outputs": [
        {
          "output_type": "stream",
          "text": [
            "138893\n",
            "1\n"
          ],
          "name": "stdout"
        }
      ]
    },
    {
      "cell_type": "code",
      "metadata": {
        "colab_type": "code",
        "id": "C1zdgJkusRh0",
        "colab": {
          "base_uri": "https://localhost:8080/",
          "height": 222
        },
        "outputId": "15bdbaf2-e9bb-4bf4-89f5-a6afe60cdf60"
      },
      "source": [
        "# Note this is the 100 dimension version of GloVe from Stanford\n",
        "# I unzipped and hosted it on my site to make this notebook easier\n",
        "!wget --no-check-certificate \\\n",
        "    https://storage.googleapis.com/laurencemoroney-blog.appspot.com/glove.6B.100d.txt \\\n",
        "    -O /tmp/glove.6B.100d.txt\n",
        "embeddings_index = {};\n",
        "with open('/tmp/glove.6B.100d.txt') as f:\n",
        "    for line in f:\n",
        "        values = line.split();\n",
        "        word = values[0];\n",
        "        coefs = np.asarray(values[1:], dtype='float32');\n",
        "        embeddings_index[word] = coefs;\n",
        "\n",
        "embeddings_matrix = np.zeros((vocab_size+1, embedding_dim));\n",
        "for word, i in word_index.items():\n",
        "    embedding_vector = embeddings_index.get(word);\n",
        "    if embedding_vector is not None:\n",
        "        embeddings_matrix[i] = embedding_vector;"
      ],
      "execution_count": 7,
      "outputs": [
        {
          "output_type": "stream",
          "text": [
            "--2020-08-31 11:43:05--  https://storage.googleapis.com/laurencemoroney-blog.appspot.com/glove.6B.100d.txt\n",
            "Resolving storage.googleapis.com (storage.googleapis.com)... 74.125.142.128, 74.125.195.128, 2607:f8b0:400e:c09::80, ...\n",
            "Connecting to storage.googleapis.com (storage.googleapis.com)|74.125.142.128|:443... connected.\n",
            "HTTP request sent, awaiting response... 200 OK\n",
            "Length: 347116733 (331M) [text/plain]\n",
            "Saving to: ‘/tmp/glove.6B.100d.txt’\n",
            "\n",
            "/tmp/glove.6B.100d. 100%[===================>] 331.04M   107MB/s    in 3.1s    \n",
            "\n",
            "2020-08-31 11:43:08 (107 MB/s) - ‘/tmp/glove.6B.100d.txt’ saved [347116733/347116733]\n",
            "\n"
          ],
          "name": "stdout"
        }
      ]
    },
    {
      "cell_type": "code",
      "metadata": {
        "colab_type": "code",
        "id": "71NLk_lpFLNt",
        "colab": {
          "base_uri": "https://localhost:8080/",
          "height": 34
        },
        "outputId": "6f399d74-52d3-46ab-9697-66d65c5e9c94"
      },
      "source": [
        "print(len(embeddings_matrix))\n",
        "# Expected Output\n",
        "# 138859"
      ],
      "execution_count": 8,
      "outputs": [
        {
          "output_type": "stream",
          "text": [
            "138894\n"
          ],
          "name": "stdout"
        }
      ]
    },
    {
      "cell_type": "code",
      "metadata": {
        "colab_type": "code",
        "id": "iKKvbuEBOGFz",
        "colab": {
          "base_uri": "https://localhost:8080/",
          "height": 1000
        },
        "outputId": "98e7afd7-470e-4009-f6e2-d341061d4226"
      },
      "source": [
        "model = tf.keras.Sequential([\n",
        "    tf.keras.layers.Embedding(vocab_size+1, embedding_dim, input_length=max_length, weights=[embeddings_matrix], trainable=False),\n",
        "    tf.keras.layers.Dropout(0.2),\n",
        "    tf.keras.layers.Conv1D(64, 5, activation='relu'),\n",
        "    tf.keras.layers.MaxPooling1D(pool_size=4),\n",
        "    tf.keras.layers.LSTM(64),\n",
        "    tf.keras.layers.Dense(1, activation='sigmoid')\n",
        "])\n",
        "model.compile(loss='binary_crossentropy', optimizer='adam', metrics=['accuracy'])\n",
        "model.summary()\n",
        "\n",
        "num_epochs = 50\n",
        "\n",
        "training_padded = np.array(training_sequences)\n",
        "training_labels = np.array(training_labels)\n",
        "testing_padded = np.array(test_sequences)\n",
        "testing_labels = np.array(test_labels)\n",
        "\n",
        "\n",
        "history = model.fit(training_padded, training_labels, epochs=num_epochs, validation_data=(testing_padded, testing_labels), verbose=2)\n",
        "\n",
        "print(\"Training Complete\")\n"
      ],
      "execution_count": 15,
      "outputs": [
        {
          "output_type": "stream",
          "text": [
            "Model: \"sequential_6\"\n",
            "_________________________________________________________________\n",
            "Layer (type)                 Output Shape              Param #   \n",
            "=================================================================\n",
            "embedding_6 (Embedding)      (None, 16, 100)           13889400  \n",
            "_________________________________________________________________\n",
            "dropout_6 (Dropout)          (None, 16, 100)           0         \n",
            "_________________________________________________________________\n",
            "conv1d_6 (Conv1D)            (None, 12, 64)            32064     \n",
            "_________________________________________________________________\n",
            "max_pooling1d_6 (MaxPooling1 (None, 3, 64)             0         \n",
            "_________________________________________________________________\n",
            "lstm_6 (LSTM)                (None, 64)                33024     \n",
            "_________________________________________________________________\n",
            "dense_6 (Dense)              (None, 1)                 65        \n",
            "=================================================================\n",
            "Total params: 13,954,553\n",
            "Trainable params: 65,153\n",
            "Non-trainable params: 13,889,400\n",
            "_________________________________________________________________\n",
            "Epoch 1/50\n",
            "4500/4500 - 15s - loss: 0.5681 - accuracy: 0.6991 - val_loss: 0.5261 - val_accuracy: 0.7368\n",
            "Epoch 2/50\n",
            "4500/4500 - 15s - loss: 0.5262 - accuracy: 0.7327 - val_loss: 0.5103 - val_accuracy: 0.7476\n",
            "Epoch 3/50\n",
            "4500/4500 - 15s - loss: 0.5093 - accuracy: 0.7459 - val_loss: 0.5043 - val_accuracy: 0.7487\n",
            "Epoch 4/50\n",
            "4500/4500 - 15s - loss: 0.4981 - accuracy: 0.7525 - val_loss: 0.5059 - val_accuracy: 0.7501\n",
            "Epoch 5/50\n",
            "4500/4500 - 15s - loss: 0.4899 - accuracy: 0.7584 - val_loss: 0.5059 - val_accuracy: 0.7499\n",
            "Epoch 6/50\n",
            "4500/4500 - 16s - loss: 0.4810 - accuracy: 0.7640 - val_loss: 0.5105 - val_accuracy: 0.7500\n",
            "Epoch 7/50\n",
            "4500/4500 - 15s - loss: 0.4769 - accuracy: 0.7668 - val_loss: 0.5091 - val_accuracy: 0.7475\n",
            "Epoch 8/50\n",
            "4500/4500 - 15s - loss: 0.4716 - accuracy: 0.7696 - val_loss: 0.5031 - val_accuracy: 0.7545\n",
            "Epoch 9/50\n",
            "4500/4500 - 15s - loss: 0.4668 - accuracy: 0.7733 - val_loss: 0.5076 - val_accuracy: 0.7539\n",
            "Epoch 10/50\n",
            "4500/4500 - 15s - loss: 0.4630 - accuracy: 0.7753 - val_loss: 0.4998 - val_accuracy: 0.7553\n",
            "Epoch 11/50\n",
            "4500/4500 - 15s - loss: 0.4607 - accuracy: 0.7772 - val_loss: 0.5028 - val_accuracy: 0.7513\n",
            "Epoch 12/50\n",
            "4500/4500 - 15s - loss: 0.4570 - accuracy: 0.7796 - val_loss: 0.5084 - val_accuracy: 0.7550\n",
            "Epoch 13/50\n",
            "4500/4500 - 15s - loss: 0.4537 - accuracy: 0.7806 - val_loss: 0.5088 - val_accuracy: 0.7529\n",
            "Epoch 14/50\n",
            "4500/4500 - 15s - loss: 0.4505 - accuracy: 0.7831 - val_loss: 0.5091 - val_accuracy: 0.7542\n",
            "Epoch 15/50\n",
            "4500/4500 - 15s - loss: 0.4494 - accuracy: 0.7834 - val_loss: 0.5132 - val_accuracy: 0.7530\n",
            "Epoch 16/50\n",
            "4500/4500 - 15s - loss: 0.4461 - accuracy: 0.7857 - val_loss: 0.5148 - val_accuracy: 0.7526\n",
            "Epoch 17/50\n",
            "4500/4500 - 15s - loss: 0.4465 - accuracy: 0.7867 - val_loss: 0.5097 - val_accuracy: 0.7531\n",
            "Epoch 18/50\n",
            "4500/4500 - 15s - loss: 0.4440 - accuracy: 0.7866 - val_loss: 0.5097 - val_accuracy: 0.7538\n",
            "Epoch 19/50\n",
            "4500/4500 - 15s - loss: 0.4415 - accuracy: 0.7881 - val_loss: 0.5157 - val_accuracy: 0.7502\n",
            "Epoch 20/50\n",
            "4500/4500 - 15s - loss: 0.4415 - accuracy: 0.7883 - val_loss: 0.5200 - val_accuracy: 0.7533\n",
            "Epoch 21/50\n",
            "4500/4500 - 15s - loss: 0.4406 - accuracy: 0.7894 - val_loss: 0.5141 - val_accuracy: 0.7499\n",
            "Epoch 22/50\n",
            "4500/4500 - 15s - loss: 0.4385 - accuracy: 0.7909 - val_loss: 0.5132 - val_accuracy: 0.7492\n",
            "Epoch 23/50\n",
            "4500/4500 - 15s - loss: 0.4363 - accuracy: 0.7906 - val_loss: 0.5242 - val_accuracy: 0.7524\n",
            "Epoch 24/50\n",
            "4500/4500 - 15s - loss: 0.4368 - accuracy: 0.7914 - val_loss: 0.5184 - val_accuracy: 0.7490\n",
            "Epoch 25/50\n",
            "4500/4500 - 15s - loss: 0.4366 - accuracy: 0.7915 - val_loss: 0.5180 - val_accuracy: 0.7499\n",
            "Epoch 26/50\n",
            "4500/4500 - 16s - loss: 0.4346 - accuracy: 0.7928 - val_loss: 0.5146 - val_accuracy: 0.7482\n",
            "Epoch 27/50\n",
            "4500/4500 - 15s - loss: 0.4346 - accuracy: 0.7931 - val_loss: 0.5250 - val_accuracy: 0.7503\n",
            "Epoch 28/50\n",
            "4500/4500 - 15s - loss: 0.4346 - accuracy: 0.7921 - val_loss: 0.5140 - val_accuracy: 0.7514\n",
            "Epoch 29/50\n",
            "4500/4500 - 15s - loss: 0.4333 - accuracy: 0.7936 - val_loss: 0.5172 - val_accuracy: 0.7501\n",
            "Epoch 30/50\n",
            "4500/4500 - 15s - loss: 0.4304 - accuracy: 0.7943 - val_loss: 0.5174 - val_accuracy: 0.7504\n",
            "Epoch 31/50\n",
            "4500/4500 - 15s - loss: 0.4325 - accuracy: 0.7939 - val_loss: 0.5166 - val_accuracy: 0.7459\n",
            "Epoch 32/50\n",
            "4500/4500 - 15s - loss: 0.4307 - accuracy: 0.7943 - val_loss: 0.5191 - val_accuracy: 0.7483\n",
            "Epoch 33/50\n",
            "4500/4500 - 15s - loss: 0.4305 - accuracy: 0.7942 - val_loss: 0.5195 - val_accuracy: 0.7476\n",
            "Epoch 34/50\n",
            "4500/4500 - 15s - loss: 0.4308 - accuracy: 0.7945 - val_loss: 0.5207 - val_accuracy: 0.7536\n",
            "Epoch 35/50\n",
            "4500/4500 - 15s - loss: 0.4289 - accuracy: 0.7958 - val_loss: 0.5178 - val_accuracy: 0.7471\n",
            "Epoch 36/50\n",
            "4500/4500 - 15s - loss: 0.4293 - accuracy: 0.7956 - val_loss: 0.5234 - val_accuracy: 0.7479\n",
            "Epoch 37/50\n",
            "4500/4500 - 15s - loss: 0.4283 - accuracy: 0.7977 - val_loss: 0.5223 - val_accuracy: 0.7478\n",
            "Epoch 38/50\n",
            "4500/4500 - 15s - loss: 0.4285 - accuracy: 0.7968 - val_loss: 0.5211 - val_accuracy: 0.7498\n",
            "Epoch 39/50\n",
            "4500/4500 - 15s - loss: 0.4278 - accuracy: 0.7974 - val_loss: 0.5237 - val_accuracy: 0.7486\n",
            "Epoch 40/50\n",
            "4500/4500 - 15s - loss: 0.4278 - accuracy: 0.7980 - val_loss: 0.5228 - val_accuracy: 0.7480\n",
            "Epoch 41/50\n",
            "4500/4500 - 15s - loss: 0.4272 - accuracy: 0.7972 - val_loss: 0.5290 - val_accuracy: 0.7458\n",
            "Epoch 42/50\n",
            "4500/4500 - 15s - loss: 0.4268 - accuracy: 0.7968 - val_loss: 0.5251 - val_accuracy: 0.7460\n",
            "Epoch 43/50\n",
            "4500/4500 - 15s - loss: 0.4282 - accuracy: 0.7979 - val_loss: 0.5242 - val_accuracy: 0.7459\n",
            "Epoch 44/50\n",
            "4500/4500 - 15s - loss: 0.4261 - accuracy: 0.7978 - val_loss: 0.5205 - val_accuracy: 0.7468\n",
            "Epoch 45/50\n",
            "4500/4500 - 15s - loss: 0.4259 - accuracy: 0.7978 - val_loss: 0.5266 - val_accuracy: 0.7488\n",
            "Epoch 46/50\n",
            "4500/4500 - 15s - loss: 0.4261 - accuracy: 0.7981 - val_loss: 0.5182 - val_accuracy: 0.7491\n",
            "Epoch 47/50\n",
            "4500/4500 - 16s - loss: 0.4238 - accuracy: 0.7993 - val_loss: 0.5286 - val_accuracy: 0.7476\n",
            "Epoch 48/50\n",
            "4500/4500 - 15s - loss: 0.4247 - accuracy: 0.7992 - val_loss: 0.5290 - val_accuracy: 0.7504\n",
            "Epoch 49/50\n",
            "4500/4500 - 15s - loss: 0.4269 - accuracy: 0.7969 - val_loss: 0.5255 - val_accuracy: 0.7472\n",
            "Epoch 50/50\n",
            "4500/4500 - 15s - loss: 0.4244 - accuracy: 0.7994 - val_loss: 0.5230 - val_accuracy: 0.7487\n",
            "Training Complete\n"
          ],
          "name": "stdout"
        }
      ]
    },
    {
      "cell_type": "code",
      "metadata": {
        "colab_type": "code",
        "id": "qxju4ItJKO8F",
        "colab": {
          "base_uri": "https://localhost:8080/",
          "height": 606
        },
        "outputId": "cae54d31-fc31-4720-e913-dca3b747de63"
      },
      "source": [
        "import matplotlib.image  as mpimg\n",
        "import matplotlib.pyplot as plt\n",
        "\n",
        "#-----------------------------------------------------------\n",
        "# Retrieve a list of list results on training and test data\n",
        "# sets for each training epoch\n",
        "#-----------------------------------------------------------\n",
        "acc=history.history['accuracy']\n",
        "val_acc=history.history['val_accuracy']\n",
        "loss=history.history['loss']\n",
        "val_loss=history.history['val_loss']\n",
        "\n",
        "epochs=range(len(acc)) # Get number of epochs\n",
        "\n",
        "#------------------------------------------------\n",
        "# Plot training and validation accuracy per epoch\n",
        "#------------------------------------------------\n",
        "plt.plot(epochs, acc, 'r')\n",
        "plt.plot(epochs, val_acc, 'b')\n",
        "plt.title('Training and validation accuracy')\n",
        "plt.xlabel(\"Epochs\")\n",
        "plt.ylabel(\"Accuracy\")\n",
        "plt.legend([\"Accuracy\", \"Validation Accuracy\"])\n",
        "\n",
        "plt.figure()\n",
        "\n",
        "#------------------------------------------------\n",
        "# Plot training and validation loss per epoch\n",
        "#------------------------------------------------\n",
        "plt.plot(epochs, loss, 'r')\n",
        "plt.plot(epochs, val_loss, 'b')\n",
        "plt.title('Training and validation loss')\n",
        "plt.xlabel(\"Epochs\")\n",
        "plt.ylabel(\"Loss\")\n",
        "plt.legend([\"Loss\", \"Validation Loss\"])\n",
        "\n",
        "plt.figure()\n",
        "\n",
        "\n",
        "# Expected Output\n",
        "# A chart where the validation loss does not increase sharply!"
      ],
      "execution_count": 16,
      "outputs": [
        {
          "output_type": "execute_result",
          "data": {
            "text/plain": [
              "<Figure size 432x288 with 0 Axes>"
            ]
          },
          "metadata": {
            "tags": []
          },
          "execution_count": 16
        },
        {
          "output_type": "display_data",
          "data": {
            "image/png": "[encoded data removed]",
            "text/plain": [
              "<Figure size 432x288 with 1 Axes>"
            ]
          },
          "metadata": {
            "tags": [],
            "needs_background": "light"
          }
        },
        {
          "output_type": "display_data",
          "data": {
            "image/png": "[encoded data removed]",
            "text/plain": [
              "<Figure size 432x288 with 1 Axes>"
            ]
          },
          "metadata": {
            "tags": [],
            "needs_background": "light"
          }
        },
        {
          "output_type": "display_data",
          "data": {
            "text/plain": [
              "<Figure size 432x288 with 0 Axes>"
            ]
          },
          "metadata": {
            "tags": []
          }
        }
      ]
    },
    {
      "cell_type": "code",
      "metadata": {
        "id": "FN1r6u1RbUYi",
        "colab_type": "code",
        "colab": {}
      },
      "source": [
        ""
      ],
      "execution_count": null,
      "outputs": []
    }
  ]
}